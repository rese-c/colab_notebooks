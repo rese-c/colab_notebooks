{
  "nbformat": 4,
  "nbformat_minor": 0,
  "metadata": {
    "colab": {
      "provenance": []
    },
    "kernelspec": {
      "name": "python3",
      "display_name": "Python 3"
    },
    "language_info": {
      "name": "python"
    }
  },
  "cells": [
    {
      "cell_type": "markdown",
      "source": [
        "実行手順:\n",
        "1."
      ],
      "metadata": {
        "id": "Y_kSl3Efrkzd"
      }
    },
    {
      "cell_type": "code",
      "source": [
        "# @title htmファイル名を入力して実行する\n",
        "html_file_name = \"あるけみすと.htm\" # @param {\"type\":\"string\"}\n",
        "\n",
        "###-------以下変更不要---------\n",
        "import bs4, re, ast\n",
        "\n",
        "def get_pet_info(stat):\n",
        "  pets = {}\n",
        "  for p in stat['pets_data']:\n",
        "    pets[p['waku']] = {'name':p['chara_name'], 'step_num':0, 'breeder':p['breeder_name']}\n",
        "  return pets\n",
        "\n",
        "soup = bs4.BeautifulSoup(open(html_file_name), 'html.parser')\n",
        "lines = soup.find_all('script')\n",
        "for line in lines:\n",
        "  r = re.search(r\"var raceDatas = \\[(.+)\\]\", line.text)\n",
        "  if r:\n",
        "    extract_race_stats = r.group(1)\n",
        "    race_stats = ast.literal_eval(extract_race_stats)\n",
        "    for race_stat in race_stats:\n",
        "      if race_stat[\"turn\"] == 0:\n",
        "        pet_info = get_pet_info(race_stat)\n",
        "      else:\n",
        "        for s in race_stat['pets_data']:\n",
        "          if s['is_racing'] == 'True':\n",
        "            pet_info[s['waku']]['step_num'] += 1\n",
        "pet_info"
      ],
      "metadata": {
        "cellView": "form",
        "id": "_c9pj5faLszL"
      },
      "execution_count": null,
      "outputs": []
    }
  ]
}