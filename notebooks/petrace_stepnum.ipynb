{
  "nbformat": 4,
  "nbformat_minor": 0,
  "metadata": {
    "colab": {
      "provenance": []
    },
    "kernelspec": {
      "name": "python3",
      "display_name": "Python 3"
    },
    "language_info": {
      "name": "python"
    }
  },
  "cells": [
    {
      "cell_type": "markdown",
      "source": [
        "# ペトレ歩数チェック"
      ],
      "metadata": {
        "id": "9ecncIGkx0gc"
      }
    },
    {
      "cell_type": "markdown",
      "source": [
        "## 実行手順\n",
        "1. レース画面を右クリックし、htmlファイルをダウンロードする  \n",
        "<img src=\"https://github.com/rese-c/colab_notebooks/blob/main/images_edited/download_htm_file.png?raw=true\" height=\"150pt\">\n",
        "2. このページにファイルをアップロードする   \n",
        "<img src=\"https://github.com/rese-c/colab_notebooks/blob/main/images_edited/upload_htm_file.png?raw=true\" height=\"150pt\">\n",
        "3. 「html_file_name」の右の入力フォームに、アップロードしたhtmlファイル名を入力し（初期値：あるけみすと.html）、左の▶️マークを押して、プログラムを実行する  \n",
        "<img src=\"https://github.com/rese-c/colab_notebooks/blob/main/images/run_script_3.png?raw=true\" height=\"150pt\">"
      ],
      "metadata": {
        "id": "Y_kSl3Efrkzd"
      }
    },
    {
      "cell_type": "code",
      "source": [
        "# @title htmlファイル名を入力して実行する\n",
        "html_file_name = \"あるけみすと.html\" # @param {\"type\":\"string\"}\n",
        "\n",
        "###-------以下変更不要---------\n",
        "import bs4, re, codecs, pandas\n",
        "waku   = []\n",
        "steps = []\n",
        "soup = bs4.BeautifulSoup(open(html_file_name), 'html.parser')\n",
        "lines = soup.find_all('script')\n",
        "\n",
        "for line in lines:\n",
        "  r = re.search(\"raceDatas[0-9a-zA-Z ]*=[0-9a-zA-Z ]*\\[(.+)\\];\", line.text)\n",
        "  if r:\n",
        "    ext_stats = r.group(1)\n",
        "    for i in range(8):\n",
        "      r2 = re.findall(\"'waku':%d,'is_racing':['`]True['`]\" % int(i+1), ext_stats)\n",
        "      if r2:\n",
        "        steps.append(len(r2)+1)\n",
        "        waku.append(i+1)\n",
        "pandas.DataFrame({'枠':waku, '歩数':steps})"
      ],
      "metadata": {
        "cellView": "form",
        "id": "_c9pj5faLszL"
      },
      "execution_count": null,
      "outputs": []
    }
  ]
}